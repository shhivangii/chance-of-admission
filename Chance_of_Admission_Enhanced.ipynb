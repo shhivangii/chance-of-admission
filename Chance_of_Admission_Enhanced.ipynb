{
  "nbformat": 4,
  "nbformat_minor": 0,
  "metadata": {
    "colab": {
      "provenance": []
    },
    "kernelspec": {
      "name": "python3",
      "display_name": "Python 3"
    },
    "language_info": {
      "name": "python"
    }
  },
  "cells": [
    {
      "cell_type": "code",
      "source": [
        "# Step 1 : import library\n",
        "import pandas as pd"
      ],
      "metadata": {
        "id": "A7vnlWzHDb86"
      },
      "execution_count": null,
      "outputs": []
    },
    {
      "cell_type": "code",
      "source": [
        "# Step 2 : import data\n",
        "admission = pd.read_csv('https://github.com/ybifoundation/Dataset/raw/main/Admission%20Chance.csv')\n",
        "\n",
        "admission.head()\n",
        "\n",
        "admission.info()\n",
        "\n",
        "# Check the column names\n",
        "print(admission.columns)"
      ],
      "metadata": {
        "colab": {
          "base_uri": "https://localhost:8080/"
        },
        "id": "JTxxaZi6Dfo_",
        "outputId": "36b0885d-adc6-4c38-907b-1618de354b76"
      },
      "execution_count": null,
      "outputs": [
        {
          "output_type": "stream",
          "name": "stdout",
          "text": [
            "<class 'pandas.core.frame.DataFrame'>\n",
            "RangeIndex: 400 entries, 0 to 399\n",
            "Data columns (total 9 columns):\n",
            " #   Column             Non-Null Count  Dtype  \n",
            "---  ------             --------------  -----  \n",
            " 0   Serial No          400 non-null    int64  \n",
            " 1   GRE Score          400 non-null    int64  \n",
            " 2   TOEFL Score        400 non-null    int64  \n",
            " 3   University Rating  400 non-null    int64  \n",
            " 4    SOP               400 non-null    float64\n",
            " 5   LOR                400 non-null    float64\n",
            " 6   CGPA               400 non-null    float64\n",
            " 7   Research           400 non-null    int64  \n",
            " 8   Chance of Admit    400 non-null    float64\n",
            "dtypes: float64(4), int64(5)\n",
            "memory usage: 28.2 KB\n",
            "Index(['Serial No', 'GRE Score', 'TOEFL Score', 'University Rating', ' SOP',\n",
            "       'LOR ', 'CGPA', 'Research', 'Chance of Admit '],\n",
            "      dtype='object')\n"
          ]
        }
      ]
    },
    {
      "cell_type": "code",
      "source": [
        "# Step 3 : define target (y) and features (X)\n",
        "\n",
        "admission.columns\n",
        "\n",
        "# Update the target variable and feature columns based on the given situation\n",
        "y = admission[['Chance of Admit ']]\n",
        "X = admission[['GRE Score', 'TOEFL Score', 'University Rating', ' SOP', 'LOR ', 'CGPA', 'Research']]"
      ],
      "metadata": {
        "id": "Y9y1QXV6Dizd"
      },
      "execution_count": null,
      "outputs": []
    },
    {
      "cell_type": "code",
      "source": [
        "# Step 4 : train test split\n",
        "from sklearn.model_selection import train_test_split\n",
        "X_train, X_test, y_train, y_test = train_test_split(X, y, train_size=0.7, random_state=2529)\n",
        "\n",
        "# check shape of train and test sample\n",
        "X_train.shape, X_test.shape, y_train.shape, y_test.shape"
      ],
      "metadata": {
        "colab": {
          "base_uri": "https://localhost:8080/"
        },
        "id": "wEUJkZ9ADqVG",
        "outputId": "d03ec6b4-1be5-4321-9083-853412f95404"
      },
      "execution_count": null,
      "outputs": [
        {
          "output_type": "execute_result",
          "data": {
            "text/plain": [
              "((280, 7), (120, 7), (280, 1), (120, 1))"
            ]
          },
          "metadata": {},
          "execution_count": 9
        }
      ]
    },
    {
      "cell_type": "code",
      "source": [
        "# Step 5 : select model\n",
        "from sklearn.linear_model import LinearRegression\n",
        "model = LinearRegression()"
      ],
      "metadata": {
        "id": "8tVi6lekDtyf"
      },
      "execution_count": null,
      "outputs": []
    },
    {
      "cell_type": "code",
      "source": [
        "# Step 6 : train or fit model\n",
        "model.fit(X_train, y_train)\n",
        "\n",
        "model.intercept_\n",
        "\n",
        "model.coef_"
      ],
      "metadata": {
        "colab": {
          "base_uri": "https://localhost:8080/"
        },
        "id": "8Fcp9yV6DvEk",
        "outputId": "69ae0914-2fcb-46c9-e45a-2cafe6654a0e"
      },
      "execution_count": null,
      "outputs": [
        {
          "output_type": "execute_result",
          "data": {
            "text/plain": [
              "array([[ 0.00204057,  0.00287273,  0.00566887, -0.00380559,  0.01973175,\n",
              "         0.11314449,  0.02061553]])"
            ]
          },
          "metadata": {},
          "execution_count": 11
        }
      ]
    },
    {
      "cell_type": "code",
      "source": [
        "# Step 7 : predict model\n",
        "# The output you see is a NumPy array containing the predicted values for the chances of admission based on the features in the test dataset. Each row in the array corresponds to a single data point in the test dataset.\n",
        "y_pred = model.predict(X_test)\n",
        "\n",
        "print(y_pred)"
      ],
      "metadata": {
        "colab": {
          "base_uri": "https://localhost:8080/"
        },
        "id": "wG5bv5YvDwpW",
        "outputId": "1a892f43-4709-4435-c955-6727617d77b7"
      },
      "execution_count": null,
      "outputs": [
        {
          "output_type": "stream",
          "name": "stdout",
          "text": [
            "[[0.71426327]\n",
            " [0.72534136]\n",
            " [0.69677103]\n",
            " [0.66566584]\n",
            " [0.57483872]\n",
            " [0.93087527]\n",
            " [0.93701113]\n",
            " [0.72361387]\n",
            " [0.81130158]\n",
            " [0.62223963]\n",
            " [0.59629648]\n",
            " [0.80084072]\n",
            " [0.52537944]\n",
            " [0.79174558]\n",
            " [0.84064992]\n",
            " [0.66429594]\n",
            " [0.65136589]\n",
            " [0.66990687]\n",
            " [0.75794085]\n",
            " [0.86072023]\n",
            " [0.66088101]\n",
            " [0.85570763]\n",
            " [0.84777425]\n",
            " [0.95033179]\n",
            " [0.68750762]\n",
            " [0.65907671]\n",
            " [0.65279623]\n",
            " [0.5709259 ]\n",
            " [0.55895645]\n",
            " [0.57990205]\n",
            " [0.54497918]\n",
            " [0.7570717 ]\n",
            " [0.69682571]\n",
            " [0.77286067]\n",
            " [0.64320811]\n",
            " [0.5183554 ]\n",
            " [0.43816818]\n",
            " [0.84654064]\n",
            " [0.90398354]\n",
            " [0.80517781]\n",
            " [0.72218971]\n",
            " [0.72882587]\n",
            " [0.68145136]\n",
            " [0.88592237]\n",
            " [0.77208852]\n",
            " [0.78778085]\n",
            " [0.95526121]\n",
            " [0.88586486]\n",
            " [0.59980416]\n",
            " [0.50690214]\n",
            " [0.59947098]\n",
            " [0.63380406]\n",
            " [0.82841217]\n",
            " [0.44911724]\n",
            " [0.71068577]\n",
            " [0.77335748]\n",
            " [0.68851557]\n",
            " [0.64486026]\n",
            " [0.85537724]\n",
            " [0.65517768]\n",
            " [0.65046031]\n",
            " [0.90818978]\n",
            " [0.63422429]\n",
            " [0.68658606]\n",
            " [0.72150268]\n",
            " [0.69030545]\n",
            " [0.59381287]\n",
            " [0.93813035]\n",
            " [0.58997351]\n",
            " [0.91542587]\n",
            " [0.59283415]\n",
            " [0.93351713]\n",
            " [0.59478751]\n",
            " [0.71380389]\n",
            " [0.54346237]\n",
            " [0.84710913]\n",
            " [0.6084418 ]\n",
            " [0.7257337 ]\n",
            " [0.67545704]\n",
            " [0.81387503]\n",
            " [0.70259527]\n",
            " [0.88600461]\n",
            " [0.67084016]\n",
            " [0.53064995]\n",
            " [0.77790726]\n",
            " [0.65780713]\n",
            " [0.78970635]\n",
            " [0.54709634]\n",
            " [0.77924705]\n",
            " [0.66750436]\n",
            " [0.69363338]\n",
            " [0.69891086]\n",
            " [0.92185813]\n",
            " [0.70469056]\n",
            " [0.62554306]\n",
            " [0.62208829]\n",
            " [0.73828086]\n",
            " [0.67369114]\n",
            " [0.76391913]\n",
            " [0.61985049]\n",
            " [0.92865957]\n",
            " [0.70430038]\n",
            " [0.9828821 ]\n",
            " [0.82502993]\n",
            " [0.78261009]\n",
            " [0.83438446]\n",
            " [0.66840368]\n",
            " [0.70165011]\n",
            " [0.64534281]\n",
            " [0.5715406 ]\n",
            " [0.80739359]\n",
            " [0.69273815]\n",
            " [0.80585447]\n",
            " [0.6102703 ]\n",
            " [0.54641206]\n",
            " [0.76301749]\n",
            " [0.71080317]\n",
            " [0.6261331 ]\n",
            " [0.83951248]\n",
            " [0.68578269]]\n"
          ]
        }
      ]
    },
    {
      "cell_type": "code",
      "source": [
        "# Convert y_pred to a DataFrame for better visualization\n",
        "y_pred_df = pd.DataFrame(data=y_pred, columns=['Predicted Chance of Admit'])\n",
        "\n",
        "# Concatenate y_pred_df with the actual y_test DataFrame\n",
        "result_df = pd.concat([y_test.reset_index(drop=True), y_pred_df], axis=1)\n",
        "\n",
        "# Print the result DataFrame\n",
        "print(result_df)"
      ],
      "metadata": {
        "colab": {
          "base_uri": "https://localhost:8080/"
        },
        "id": "nMLLCbOdGP4O",
        "outputId": "063c8f05-6543-49a1-a2f7-b5c85f8d3da5"
      },
      "execution_count": null,
      "outputs": [
        {
          "output_type": "stream",
          "name": "stdout",
          "text": [
            "     Chance of Admit   Predicted Chance of Admit\n",
            "0                0.63                   0.714263\n",
            "1                0.74                   0.725341\n",
            "2                0.68                   0.696771\n",
            "3                0.71                   0.665666\n",
            "4                0.68                   0.574839\n",
            "..                ...                        ...\n",
            "115              0.76                   0.763017\n",
            "116              0.71                   0.710803\n",
            "117              0.64                   0.626133\n",
            "118              0.82                   0.839512\n",
            "119              0.72                   0.685783\n",
            "\n",
            "[120 rows x 2 columns]\n"
          ]
        }
      ]
    },
    {
      "cell_type": "code",
      "source": [
        "# Step 8 : model accuracy\n",
        "from sklearn.metrics import mean_absolute_error, mean_squared_error\n",
        "\n",
        "mae = mean_absolute_error(y_test, y_pred)\n",
        "mse = mean_squared_error(y_test, y_pred)\n",
        "\n",
        "print(\"Mean Absolute Error:\", mae)\n",
        "print(\"Mean Squared Error:\", mse)"
      ],
      "metadata": {
        "colab": {
          "base_uri": "https://localhost:8080/"
        },
        "id": "6eUD6TjGDyFl",
        "outputId": "9de01440-542f-487c-e875-c81bcf9ef379"
      },
      "execution_count": null,
      "outputs": [
        {
          "output_type": "stream",
          "name": "stdout",
          "text": [
            "Mean Absolute Error: 0.04400128934232651\n",
            "Mean Squared Error: 0.004038263715495693\n"
          ]
        }
      ]
    }
  ]
}